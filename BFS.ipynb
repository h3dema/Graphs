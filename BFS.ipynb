{
 "cells": [
  {
   "cell_type": "code",
   "execution_count": 1,
   "metadata": {},
   "outputs": [],
   "source": [
    "from grafo import grafo, WHITE, GREY, BLACK"
   ]
  },
  {
   "cell_type": "code",
   "execution_count": 2,
   "metadata": {},
   "outputs": [],
   "source": [
    "def bfs(G, s):\n",
    "    \"\"\"\n",
    "    :param G: grafo (V,E)\n",
    "    :param s: vertice inicial\n",
    "    \"\"\"\n",
    "    for v in G.V:\n",
    "        G.cor[v] = WHITE\n",
    "        G.dist[v] = float('inf')\n",
    "\n",
    "    T = grafo()\n",
    "    T.acresc_vertice(s)\n",
    "    Q = [s]\n",
    "    while len(Q) > 0:\n",
    "        v = Q.pop(0)\n",
    "        for u in G.E[v]:\n",
    "            if G.cor[u] == WHITE:\n",
    "                T.acresc_aresta(v, u)\n",
    "                G.cor[u] = GREY\n",
    "                G.dist[u] = G.dist[v] + 1\n",
    "                Q.append(u)\n",
    "        G.cor[v] = BLACK\n",
    "    return T"
   ]
  },
  {
   "cell_type": "markdown",
   "metadata": {},
   "source": [
    "## cria grafo\n",
    "\n",
    "![Formato do grafo](grafo.png)"
   ]
  },
  {
   "cell_type": "code",
   "execution_count": 3,
   "metadata": {},
   "outputs": [],
   "source": [
    "G = grafo()\n",
    "G.acresc_aresta('a', 'b')\n",
    "G.acresc_aresta('a', 's')\n",
    "G.acresc_aresta('s', 'b')\n",
    "G.acresc_aresta('s', 'c')\n",
    "G.acresc_aresta('s', 'e')\n",
    "G.acresc_aresta('f', 'e')\n",
    "G.acresc_aresta('f', 'c')\n",
    "G.acresc_aresta('f', 'd')\n",
    "G.acresc_aresta('e', 'g')\n",
    "G.acresc_aresta('e', 'd')\n",
    "G.acresc_aresta('d', 'g')\n",
    "G.acresc_aresta('d', 'c')"
   ]
  },
  {
   "cell_type": "markdown",
   "metadata": {},
   "source": [
    "## grafo"
   ]
  },
  {
   "cell_type": "code",
   "execution_count": 4,
   "metadata": {},
   "outputs": [
    {
     "name": "stdout",
     "output_type": "stream",
     "text": [
      "grafo G\n",
      "a: ['b', 's']\n",
      "b: ['a', 's']\n",
      "s: ['a', 'b', 'c', 'e']\n",
      "c: ['s', 'f', 'd']\n",
      "e: ['s', 'f', 'g', 'd']\n",
      "f: ['e', 'c', 'd']\n",
      "d: ['f', 'e', 'g', 'c']\n",
      "g: ['e', 'd']\n",
      "\n"
     ]
    }
   ],
   "source": [
    "print(\"grafo G\")\n",
    "print(G)"
   ]
  },
  {
   "cell_type": "markdown",
   "metadata": {},
   "source": [
    "## acha árvore do BFS"
   ]
  },
  {
   "cell_type": "code",
   "execution_count": 5,
   "metadata": {
    "scrolled": true
   },
   "outputs": [
    {
     "name": "stdout",
     "output_type": "stream",
     "text": [
      "s: ['a', 'b', 'c', 'e']\n",
      "a: ['s']\n",
      "b: ['s']\n",
      "c: ['s', 'f', 'd']\n",
      "e: ['s', 'g']\n",
      "f: ['c']\n",
      "d: ['c']\n",
      "g: ['e']\n",
      "\n"
     ]
    }
   ],
   "source": [
    "T = bfs(G, 's')\n",
    "print(T)"
   ]
  },
  {
   "cell_type": "markdown",
   "metadata": {},
   "source": [
    "A figura abaixo mostra graficamente o resultado do DFS\n",
    "\n",
    "![BFS tree](bfs.png)"
   ]
  }
 ],
 "metadata": {
  "kernelspec": {
   "display_name": "Python 3",
   "language": "python",
   "name": "python3"
  },
  "language_info": {
   "codemirror_mode": {
    "name": "ipython",
    "version": 3
   },
   "file_extension": ".py",
   "mimetype": "text/x-python",
   "name": "python",
   "nbconvert_exporter": "python",
   "pygments_lexer": "ipython3",
   "version": "3.7.6"
  }
 },
 "nbformat": 4,
 "nbformat_minor": 4
}
