{
 "cells": [
  {
   "cell_type": "markdown",
   "metadata": {},
   "source": [
    "# Strongly Connected Components (SCC)\n",
    "\n",
    "\n",
    "Um grafo direcionado (digraph) está fortemente conectado se houver um caminho entre todos os pares de vértices.  \n",
    "Portanto um componente fortemente conectado (SCC) de um grafo direcionado é um subgrafo máximo fortemente conectado. \n",
    "\n",
    "\n",
    "O algoritmo para encontrar um SCC pode ser feito em tempo $O (V + E)$ usando o algoritmo de Kosaraju:\n",
    "\n",
    "1. Crie uma pilha vazia $S$ e faça a travessia DFS de um grafo $G$. No percurso do DFS, depois de chamar o DFS recursivo para vértices adjacentes de um vértice, empilhe o vértice chamado.\n",
    "2. Inverta as direções de todos as arestas do grafo $G$ para obter o grafo transposto $G'$.\n",
    "3.  Um por um, remova um vértice da pilha $S$. Enquanto $S$ não está vazio, chame o vértice removido da pilha de $v$. Considere $v$ como uma fonte e faça DFS a partir de $v$. Este DFS a partir de $v$ localiza o componente fortemente conectado de $v$.\n"
   ]
  },
  {
   "cell_type": "code",
   "execution_count": 1,
   "metadata": {},
   "outputs": [],
   "source": [
    "from grafo import grafo, WHITE, GREY, BLACK"
   ]
  },
  {
   "cell_type": "code",
   "execution_count": 2,
   "metadata": {},
   "outputs": [],
   "source": [
    "def dfs_visit(G, u, time, S=None, T=None):\n",
    "    G.cor[u] = GREY\n",
    "    time += 1\n",
    "    G.dist[u] = time\n",
    "    for v in G.E[u]:\n",
    "        if G.cor[v] == WHITE:\n",
    "            if T is not None:\n",
    "                T.acresc_aresta(u, v)\n",
    "            dfs_visit(G, v, time, S, T)\n",
    "    G.cor[u] = BLACK\n",
    "    time += 1\n",
    "    G.tf[u] = time\n",
    "    if S is not None:\n",
    "        S.append(u)"
   ]
  },
  {
   "cell_type": "code",
   "execution_count": 3,
   "metadata": {},
   "outputs": [],
   "source": [
    "# "
   ]
  },
  {
   "cell_type": "code",
   "execution_count": 4,
   "metadata": {},
   "outputs": [],
   "source": [
    "def scc(G):\n",
    "    \"\"\"\n",
    "    :param G grafo (V,E)\n",
    "    :\n",
    "    \"\"\"\n",
    "    S = []  # pilha que conterá os vértices\n",
    "    \n",
    "    # 1) faz DFS para obter S: ordem dos vertices\n",
    "    for v in G.V:\n",
    "        G.cor[v] = WHITE\n",
    "        G.dist[v] = float('inf')\n",
    "    time = 0\n",
    "    for u in G.V:\n",
    "        if G.cor[u] == WHITE:\n",
    "            dfs_visit(G, u, time, S=S)\n",
    " \n",
    "    # 2) cria G'\n",
    "    G_transp = grafo()\n",
    "    for v in G.V:\n",
    "        for u in G.E[v]:\n",
    "            G_transp.acresc_aresta(u, v, direcionada=True)  # (v,u) --> (u,v)\n",
    "    \n",
    "    # 3) componentes\n",
    "    CC = []\n",
    "    while len(S) > 0:\n",
    "        T = grafo()\n",
    "        u = S.pop(0)\n",
    "        \n",
    "        dfs_visit(G_transp, u, time, T=T)\n",
    "        CC.append(T)\n",
    "        \n",
    "        for v in T.V:\n",
    "            if v in S:\n",
    "                S.remove(v)\n",
    "        \n",
    "    return CC"
   ]
  },
  {
   "cell_type": "markdown",
   "metadata": {},
   "source": [
    "## cria grafo\n",
    "\n",
    "![Formato do grafo](digrafo.png)"
   ]
  },
  {
   "cell_type": "code",
   "execution_count": 5,
   "metadata": {},
   "outputs": [],
   "source": [
    "G = grafo()\n",
    "\n",
    "G.acresc_aresta('s', 'a', direcionada=True)\n",
    "G.acresc_aresta('a', 'b', direcionada=True)\n",
    "G.acresc_aresta('b', 's', direcionada=True)\n",
    "G.acresc_aresta('s', 'c', direcionada=True)\n",
    "G.acresc_aresta('s', 'e', direcionada=True)\n",
    "G.acresc_aresta('c', 'd', direcionada=True)\n",
    "G.acresc_aresta('d', 'g', direcionada=True)\n",
    "G.acresc_aresta('g', 'e', direcionada=True)\n",
    "G.acresc_aresta('e', 'd', direcionada=True)\n",
    "G.acresc_aresta('e', 'f', direcionada=True)\n",
    "G.acresc_aresta('f', 'd', direcionada=True)\n",
    "G.acresc_aresta('f', 'c', direcionada=True)"
   ]
  },
  {
   "cell_type": "code",
   "execution_count": 6,
   "metadata": {},
   "outputs": [
    {
     "name": "stdout",
     "output_type": "stream",
     "text": [
      "s: ['a', 'c', 'e']\n",
      "a: ['b']\n",
      "c: ['d']\n",
      "e: ['d', 'f']\n",
      "b: ['s']\n",
      "d: ['g']\n",
      "f: ['d', 'c']\n",
      "g: ['e']\n",
      "\n"
     ]
    }
   ],
   "source": [
    "print(G)"
   ]
  },
  {
   "cell_type": "markdown",
   "metadata": {},
   "source": [
    "## grafo"
   ]
  },
  {
   "cell_type": "code",
   "execution_count": 7,
   "metadata": {},
   "outputs": [],
   "source": [
    "r = scc(G)"
   ]
  },
  {
   "cell_type": "code",
   "execution_count": 8,
   "metadata": {
    "scrolled": true
   },
   "outputs": [
    {
     "name": "stdout",
     "output_type": "stream",
     "text": [
      "Num. componentes: 2\n"
     ]
    }
   ],
   "source": [
    "print(\"Num. componentes:\", len(r))"
   ]
  },
  {
   "cell_type": "code",
   "execution_count": 10,
   "metadata": {},
   "outputs": [
    {
     "name": "stdout",
     "output_type": "stream",
     "text": [
      "Componente # 1\n",
      "['b', 'a', 's']\n",
      "Componente # 2\n",
      "['f', 'e', 'g', 'd', 'c']\n"
     ]
    }
   ],
   "source": [
    "for i in range(len(r)):\n",
    "    print('Componente #', i + 1)\n",
    "    print(r[i].V)"
   ]
  }
 ],
 "metadata": {
  "kernelspec": {
   "display_name": "Python 3",
   "language": "python",
   "name": "python3"
  },
  "language_info": {
   "codemirror_mode": {
    "name": "ipython",
    "version": 3
   },
   "file_extension": ".py",
   "mimetype": "text/x-python",
   "name": "python",
   "nbconvert_exporter": "python",
   "pygments_lexer": "ipython3",
   "version": "3.7.6"
  }
 },
 "nbformat": 4,
 "nbformat_minor": 4
}
